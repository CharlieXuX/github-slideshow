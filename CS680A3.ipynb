{
  "nbformat": 4,
  "nbformat_minor": 0,
  "metadata": {
    "colab": {
      "name": "CS680A3.ipynb",
      "provenance": [],
      "collapsed_sections": [],
      "authorship_tag": "ABX9TyP/5V9un1y7evLiiIA7uXBt",
      "include_colab_link": true
    },
    "kernelspec": {
      "name": "python3",
      "display_name": "Python 3"
    },
    "language_info": {
      "name": "python"
    },
    "accelerator": "GPU"
  },
  "cells": [
    {
      "cell_type": "markdown",
      "metadata": {
        "id": "view-in-github",
        "colab_type": "text"
      },
      "source": [
        "<a href=\"https://colab.research.google.com/github/CharlieXuX/github-slideshow/blob/master/CS680A3.ipynb\" target=\"_parent\"><img src=\"https://colab.research.google.com/assets/colab-badge.svg\" alt=\"Open In Colab\"/></a>"
      ]
    },
    {
      "cell_type": "code",
      "metadata": {
        "id": "mVxj9frSWqDq"
      },
      "source": [
        "import keras\n",
        "import tensorflow as tf\n",
        "from keras.models import Sequential\n",
        "from keras.layers import Dense, Conv2D, MaxPooling2D , Flatten, Dropout\n",
        "import numpy as np\n",
        "from PIL import Image, ImageFilter\n",
        "from keras.preprocessing.image import ImageDataGenerator"
      ],
      "execution_count": 1,
      "outputs": []
    },
    {
      "cell_type": "code",
      "metadata": {
        "colab": {
          "base_uri": "https://localhost:8080/"
        },
        "id": "ACW6pIswW3kL",
        "outputId": "4742e602-6757-4578-946b-bc29d7a19840"
      },
      "source": [
        "mnist = tf.keras.datasets.mnist\n",
        "\n",
        "(x_train, y_train), (x_test, y_test) = mnist.load_data()\n",
        "x_train, x_test = x_train / 255.0, x_test / 255.0\n",
        "\n",
        "temp = []\n",
        "for x in x_train:\n",
        "\ttemp .append(np.array(Image.fromarray(x).resize((32, 32))))\n",
        "\n",
        "x_train = np.asarray(temp)\n",
        "\n",
        "temp = []\n",
        "for x in x_test:\n",
        "\ttemp .append(np.array(Image.fromarray(x).resize((32, 32))))\n",
        "\n",
        "x_test = np.asarray(temp)\n",
        "\n",
        "x_train = x_train.reshape(x_train.shape[0], 32, 32, 1)\n",
        "x_test = x_test.reshape(x_test.shape[0], 32, 32, 1)"
      ],
      "execution_count": 2,
      "outputs": [
        {
          "output_type": "stream",
          "text": [
            "Downloading data from https://storage.googleapis.com/tensorflow/tf-keras-datasets/mnist.npz\n",
            "11493376/11490434 [==============================] - 0s 0us/step\n"
          ],
          "name": "stdout"
        }
      ]
    },
    {
      "cell_type": "code",
      "metadata": {
        "id": "APlV6AZOj5tt"
      },
      "source": [
        "\n",
        "y_train = tf.keras.utils.to_categorical(y_train,num_classes=10)\n",
        "y_test = tf.keras.utils.to_categorical(y_test, 10)\n",
        "x_tr = x_train[:6000]\n",
        "y_tr = y_train[:6000]\n",
        "x_te = x_test[:600]\n",
        "y_te = y_test[:600]"
      ],
      "execution_count": 3,
      "outputs": []
    },
    {
      "cell_type": "code",
      "metadata": {
        "colab": {
          "base_uri": "https://localhost:8080/"
        },
        "id": "LgcvTJAmW84e",
        "outputId": "f66b62b7-f3c9-47a8-c215-57dcfb11f9ff"
      },
      "source": [
        "model = Sequential()\n",
        "\n",
        "# Create model\n",
        "model.add(Conv2D(64, kernel_size=(3, 3),activation='relu',padding='same',input_shape = (32, 32, 1)))\n",
        "\n",
        "model.add(MaxPooling2D(2))\n",
        "\n",
        "model.add(Conv2D(128, (3, 3), activation='relu',padding='same'))\n",
        "\n",
        "model.add(MaxPooling2D(2))\n",
        "\n",
        "model.add(Conv2D(256, (3, 3), activation='relu',padding='same'))\n",
        "\n",
        "model.add(Conv2D(256, (3, 3), activation='relu',padding='same'))\n",
        "\n",
        "model.add(MaxPooling2D(2))\n",
        "\n",
        "model.add(Conv2D(512, (3, 3), activation='relu',padding='same'))\n",
        "\n",
        "model.add(Conv2D(512, (3, 3), activation='relu',padding='same'))\n",
        "\n",
        "model.add(MaxPooling2D(2))\n",
        "\n",
        "model.add(Conv2D(512, (3, 3), activation='relu',padding='same'))\n",
        "\n",
        "model.add(Conv2D(512, (3, 3), activation='relu',padding='same'))\n",
        "\n",
        "model.add(MaxPooling2D(2))\n",
        "\n",
        "model.add(Flatten())\n",
        "\n",
        "model.add(Dense(4096, activation='relu'))\n",
        "\n",
        "model.add(Dropout(0.5))\n",
        "\n",
        "model.add(Dense(4096, activation='relu'))\n",
        "\n",
        "model.add(Dropout(0.5))\n",
        "\n",
        "model.add(Dense(10, activation='softmax'))\n",
        "\n",
        "print(model.summary())\n"
      ],
      "execution_count": 4,
      "outputs": [
        {
          "output_type": "stream",
          "text": [
            "Model: \"sequential\"\n",
            "_________________________________________________________________\n",
            "Layer (type)                 Output Shape              Param #   \n",
            "=================================================================\n",
            "conv2d (Conv2D)              (None, 32, 32, 64)        640       \n",
            "_________________________________________________________________\n",
            "max_pooling2d (MaxPooling2D) (None, 16, 16, 64)        0         \n",
            "_________________________________________________________________\n",
            "conv2d_1 (Conv2D)            (None, 16, 16, 128)       73856     \n",
            "_________________________________________________________________\n",
            "max_pooling2d_1 (MaxPooling2 (None, 8, 8, 128)         0         \n",
            "_________________________________________________________________\n",
            "conv2d_2 (Conv2D)            (None, 8, 8, 256)         295168    \n",
            "_________________________________________________________________\n",
            "conv2d_3 (Conv2D)            (None, 8, 8, 256)         590080    \n",
            "_________________________________________________________________\n",
            "max_pooling2d_2 (MaxPooling2 (None, 4, 4, 256)         0         \n",
            "_________________________________________________________________\n",
            "conv2d_4 (Conv2D)            (None, 4, 4, 512)         1180160   \n",
            "_________________________________________________________________\n",
            "conv2d_5 (Conv2D)            (None, 4, 4, 512)         2359808   \n",
            "_________________________________________________________________\n",
            "max_pooling2d_3 (MaxPooling2 (None, 2, 2, 512)         0         \n",
            "_________________________________________________________________\n",
            "conv2d_6 (Conv2D)            (None, 2, 2, 512)         2359808   \n",
            "_________________________________________________________________\n",
            "conv2d_7 (Conv2D)            (None, 2, 2, 512)         2359808   \n",
            "_________________________________________________________________\n",
            "max_pooling2d_4 (MaxPooling2 (None, 1, 1, 512)         0         \n",
            "_________________________________________________________________\n",
            "flatten (Flatten)            (None, 512)               0         \n",
            "_________________________________________________________________\n",
            "dense (Dense)                (None, 4096)              2101248   \n",
            "_________________________________________________________________\n",
            "dropout (Dropout)            (None, 4096)              0         \n",
            "_________________________________________________________________\n",
            "dense_1 (Dense)              (None, 4096)              16781312  \n",
            "_________________________________________________________________\n",
            "dropout_1 (Dropout)          (None, 4096)              0         \n",
            "_________________________________________________________________\n",
            "dense_2 (Dense)              (None, 10)                40970     \n",
            "=================================================================\n",
            "Total params: 28,142,858\n",
            "Trainable params: 28,142,858\n",
            "Non-trainable params: 0\n",
            "_________________________________________________________________\n",
            "None\n"
          ],
          "name": "stdout"
        }
      ]
    },
    {
      "cell_type": "code",
      "metadata": {
        "colab": {
          "base_uri": "https://localhost:8080/"
        },
        "id": "hd6XYQHmjz7M",
        "outputId": "26428b50-867d-4b28-8225-2014d12a099d"
      },
      "source": [
        "model.compile(loss=keras.losses.categorical_crossentropy, optimizer=keras.optimizers.Adam(lr=0.00001), metrics=['accuracy'])\n",
        "model.fit(x_train, y_train, batch_size=256, epochs=5, validation_data=(x_test, y_test))"
      ],
      "execution_count": 5,
      "outputs": [
        {
          "output_type": "stream",
          "text": [
            "/usr/local/lib/python3.7/dist-packages/tensorflow/python/keras/optimizer_v2/optimizer_v2.py:375: UserWarning: The `lr` argument is deprecated, use `learning_rate` instead.\n",
            "  \"The `lr` argument is deprecated, use `learning_rate` instead.\")\n"
          ],
          "name": "stderr"
        },
        {
          "output_type": "stream",
          "text": [
            "Epoch 1/5\n",
            "235/235 [==============================] - 63s 73ms/step - loss: 2.0854 - accuracy: 0.2674 - val_loss: 0.7178 - val_accuracy: 0.7622\n",
            "Epoch 2/5\n",
            "235/235 [==============================] - 15s 64ms/step - loss: 0.6774 - accuracy: 0.7634 - val_loss: 0.3601 - val_accuracy: 0.8844\n",
            "Epoch 3/5\n",
            "235/235 [==============================] - 15s 66ms/step - loss: 0.3666 - accuracy: 0.8860 - val_loss: 0.2157 - val_accuracy: 0.9317\n",
            "Epoch 4/5\n",
            "235/235 [==============================] - 16s 67ms/step - loss: 0.2207 - accuracy: 0.9328 - val_loss: 0.1321 - val_accuracy: 0.9580\n",
            "Epoch 5/5\n",
            "235/235 [==============================] - 15s 64ms/step - loss: 0.1558 - accuracy: 0.9522 - val_loss: 0.1134 - val_accuracy: 0.9604\n"
          ],
          "name": "stdout"
        },
        {
          "output_type": "execute_result",
          "data": {
            "text/plain": [
              "<keras.callbacks.History at 0x7f658d2ec210>"
            ]
          },
          "metadata": {
            "tags": []
          },
          "execution_count": 5
        }
      ]
    },
    {
      "cell_type": "markdown",
      "metadata": {
        "id": "RG7bBlP2QQHs"
      },
      "source": [
        "1. Flip test data."
      ]
    },
    {
      "cell_type": "code",
      "metadata": {
        "colab": {
          "base_uri": "https://localhost:8080/"
        },
        "id": "H_kOcWL9gbZ5",
        "outputId": "ce285727-78ab-4462-8df9-698af9ecc90a"
      },
      "source": [
        "x_ver_flip = tf.image.flip_up_down(x_test)\n",
        "model.evaluate(x_ver_flip, y_test)"
      ],
      "execution_count": 13,
      "outputs": [
        {
          "output_type": "stream",
          "text": [
            "313/313 [==============================] - 2s 7ms/step - loss: 4.9627 - accuracy: 0.3260\n"
          ],
          "name": "stdout"
        },
        {
          "output_type": "execute_result",
          "data": {
            "text/plain": [
              "[4.96272087097168, 0.32600000500679016]"
            ]
          },
          "metadata": {
            "tags": []
          },
          "execution_count": 13
        }
      ]
    },
    {
      "cell_type": "code",
      "metadata": {
        "colab": {
          "base_uri": "https://localhost:8080/"
        },
        "id": "uIGEt4HOeLRC",
        "outputId": "53f725c0-60de-49a9-903d-f93e34406bd2"
      },
      "source": [
        "x_hori_flip = tf.image.flip_left_right(x_test)\n",
        "model.evaluate(x_hori_flip, y_test)"
      ],
      "execution_count": 14,
      "outputs": [
        {
          "output_type": "stream",
          "text": [
            "313/313 [==============================] - 2s 6ms/step - loss: 3.6616 - accuracy: 0.3940\n"
          ],
          "name": "stdout"
        },
        {
          "output_type": "execute_result",
          "data": {
            "text/plain": [
              "[3.6615750789642334, 0.39399999380111694]"
            ]
          },
          "metadata": {
            "tags": []
          },
          "execution_count": 14
        }
      ]
    },
    {
      "cell_type": "markdown",
      "metadata": {
        "id": "TNcDLCbVaiTL"
      },
      "source": [
        "2. Add Noise."
      ]
    },
    {
      "cell_type": "code",
      "metadata": {
        "id": "81v_4E3salY-"
      },
      "source": [
        "tf.image."
      ],
      "execution_count": null,
      "outputs": []
    }
  ]
}